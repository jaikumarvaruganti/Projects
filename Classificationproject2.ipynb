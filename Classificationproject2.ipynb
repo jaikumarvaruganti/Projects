{
 "cells": [
  {
   "cell_type": "code",
   "execution_count": 1,
   "id": "62c96cf7-c06f-4563-9ef7-c95be726043c",
   "metadata": {},
   "outputs": [
    {
     "name": "stdout",
     "output_type": "stream",
     "text": [
      "   StudyHours  Attendance  PastScore  SleepHours Internet Passed\n",
      "0    1.898997   71.368828  35.015264    3.986070       No     No\n",
      "1    2.424608   53.827603  37.406940    6.987450       No     No\n",
      "2    3.236751   34.031980  42.168360    6.284438      Yes     No\n",
      "3    5.245158   55.671770  49.160520    5.552326      Yes     No\n",
      "4    4.313037   87.191503  80.562300    9.231300       No    Yes\n",
      "\n",
      " Dataset shape:\n",
      "(1000, 6)\n",
      "\n",
      "Dataset information:\n",
      "\n",
      "<class 'pandas.core.frame.DataFrame'>\n",
      "RangeIndex: 1000 entries, 0 to 999\n",
      "Data columns (total 6 columns):\n",
      " #   Column      Non-Null Count  Dtype  \n",
      "---  ------      --------------  -----  \n",
      " 0   StudyHours  1000 non-null   float64\n",
      " 1   Attendance  1000 non-null   float64\n",
      " 2   PastScore   1000 non-null   float64\n",
      " 3   SleepHours  1000 non-null   float64\n",
      " 4   Internet    1000 non-null   object \n",
      " 5   Passed      1000 non-null   object \n",
      "dtypes: float64(4), object(2)\n",
      "memory usage: 47.0+ KB\n",
      "None\n",
      "\n",
      "Summary Statistics:\n",
      "\n",
      "        StudyHours   Attendance    PastScore   SleepHours\n",
      "count  1000.000000  1000.000000  1000.000000  1000.000000\n",
      "mean      4.512546    72.431411    60.351376     5.993935\n",
      "std       2.003447    17.838544    19.225059     1.489858\n",
      "min       0.000000    20.000000     9.846616     3.000000\n",
      "25%       2.944461    60.408743    44.542891     4.894881\n",
      "50%       4.328130    75.842628    61.571561     6.112050\n",
      "75%       6.056761    86.300158    76.196931     7.094129\n",
      "max      11.779097   100.000000   100.000000    10.000000\n",
      "\n",
      " Misssing Data:\n",
      "\n",
      "StudyHours    0\n",
      "Attendance    0\n",
      "PastScore     0\n",
      "SleepHours    0\n",
      "Internet      0\n",
      "Passed        0\n",
      "dtype: int64\n"
     ]
    }
   ],
   "source": [
    "# Project: Studence Success Prediction( Classification)\n",
    "import pandas as pd\n",
    "\n",
    "df = pd.read_csv(r\"C:\\Users\\vmahe\\Downloads\\student_success_balanced.csv\")\n",
    "print(df.head())\n",
    "print(\"\\n Dataset shape:\")\n",
    "print(df.shape)\n",
    "print(\"\\nDataset information:\\n\")\n",
    "print(df.info())\n",
    "print(\"\\nSummary Statistics:\\n\")\n",
    "print(df.describe())\n",
    "print(\"\\n Misssing Data:\\n\")\n",
    "print(df.isnull().sum())\n"
   ]
  },
  {
   "cell_type": "code",
   "execution_count": 2,
   "id": "2c98a7f1-ad0b-4f4d-aa60-a690e28380ad",
   "metadata": {},
   "outputs": [
    {
     "name": "stdout",
     "output_type": "stream",
     "text": [
      "Classification Report:\n",
      "              precision    recall  f1-score   support\n",
      "\n",
      "           0       1.00      0.98      0.99       100\n",
      "           1       0.98      1.00      0.99       100\n",
      "\n",
      "    accuracy                           0.99       200\n",
      "   macro avg       0.99      0.99      0.99       200\n",
      "weighted avg       0.99      0.99      0.99       200\n",
      "\n"
     ]
    },
    {
     "data": {
      "image/png": "[encoded data removed]",
      "text/plain": [
       "<Figure size 600x500 with 2 Axes>"
      ]
     },
     "metadata": {},
     "output_type": "display_data"
    },
    {
     "name": "stdout",
     "output_type": "stream",
     "text": [
      "------Predict Your Result------\n"
     ]
    },
    {
     "name": "stdin",
     "output_type": "stream",
     "text": [
      "Enter study Hours: 7\n",
      "Enter Attendance: 7\n",
      "Enter Past Score: 35\n",
      "enter Sleep Hours: 0\n",
      "Enter if uses internet: 1\n"
     ]
    },
    {
     "name": "stdout",
     "output_type": "stream",
     "text": [
      "Prediction Based on input:Fail\n"
     ]
    },
    {
     "name": "stderr",
     "output_type": "stream",
     "text": [
      "C:\\Users\\vmahe\\anaconda3\\Lib\\site-packages\\sklearn\\utils\\validation.py:2739: UserWarning: X does not have valid feature names, but LogisticRegression was fitted with feature names\n",
      "  warnings.warn(\n"
     ]
    }
   ],
   "source": [
    "import pandas as pd\n",
    "import numpy as np\n",
    "from sklearn.preprocessing import LabelEncoder\n",
    "from sklearn.preprocessing import StandardScaler\n",
    "from sklearn.model_selection import train_test_split\n",
    "from sklearn.linear_model import LogisticRegression\n",
    "from sklearn.metrics import classification_report,confusion_matrix\n",
    "import matplotlib.pyplot as plt\n",
    "import seaborn as sns\n",
    "df = pd.read_csv(r\"C:\\Users\\vmahe\\Downloads\\student_success_balanced.csv\")\n",
    "df.head()\n",
    "le= LabelEncoder()\n",
    "df['Internet']= le.fit_transform(df['Internet'])\n",
    "df['Passed']= le.fit_transform(df['Passed'])\n",
    "features = ['StudyHours','Attendance','PastScore','SleepHours','Internet']\n",
    "scaler= StandardScaler()\n",
    "df_scaled= df.copy()\n",
    "df_scaled[features]=scaler.fit_transform(df[features])\n",
    "\n",
    "X= df_scaled[features]\n",
    "y= df_scaled['Passed']\n",
    "X_train,X_test,y_train,y_test =train_test_split(X,y,test_size=0.2,random_state=42)\n",
    "\n",
    "model= LogisticRegression()\n",
    "model.fit(X_train,y_train)\n",
    "y_pred= model.predict(X_test)\n",
    "\n",
    "print(\"Classification Report:\")\n",
    "print(classification_report(y_test, y_pred))\n",
    "cm= confusion_matrix(y_test,y_pred)\n",
    "plt.figure(figsize=(6,5))\n",
    "sns.heatmap(cm, annot= True, cmap='coolwarm', linewidth='1',linecolor='black',fmt='d'\n",
    "            ,xticklabels=['Fail','Pass'],yticklabels=['Fail','Pass'])\n",
    "plt.xlabel(\"Predicted\")\n",
    "plt.ylabel(\"Actual\")\n",
    "plt.title(\"Confusion Matrix\")\n",
    "plt.show()\n",
    "\n",
    "print(\"------Predict Your Result------\")\n",
    "try:\n",
    "    study_hours=float(input(\"Enter study Hours:\"))\n",
    "    attendance = float(input(\"Enter Attendance:\"))\n",
    "    past_score = float(input(\"Enter Past Score:\"))\n",
    "    sleep_hours =float(input(\"enter Sleep Hours:\"))\n",
    "    internet = input(\"Enter if uses internet:\")\n",
    "    \n",
    "    user_input_df= pd.DataFrame([{\n",
    "        'StudyHours': study_hours,\n",
    "        'Attendance':attendance,\n",
    "        'PastScore': past_score,\n",
    "        'SleepHours': sleep_hours,\n",
    "        'Internet': internet \n",
    "    }])\n",
    "\n",
    "    user_input_scaled= scaler.transform(user_input_df)\n",
    "    prediction = model.predict(user_input_scaled)[0]\n",
    "    Result= \"PASS\" if prediction==1 else \"Fail\"\n",
    "    print(f\"Prediction Based on input:{Result}\")       \n",
    "\n",
    "except Exception as e:\n",
    "    print(f\"Error: {e}\")\n"
   ]
  },
  {
   "cell_type": "code",
   "execution_count": null,
   "id": "e8f200f8-e76c-428b-9a6f-fabde4953ced",
   "metadata": {},
   "outputs": [],
   "source": []
  },
  {
   "cell_type": "code",
   "execution_count": 9,
   "id": "1175219a-1667-4914-9866-2f9029b64251",
   "metadata": {},
   "outputs": [
    {
     "data": {
      "text/html": [
       "<div>\n",
       "<style scoped>\n",
       "    .dataframe tbody tr th:only-of-type {\n",
       "        vertical-align: middle;\n",
       "    }\n",
       "\n",
       "    .dataframe tbody tr th {\n",
       "        vertical-align: top;\n",
       "    }\n",
       "\n",
       "    .dataframe thead th {\n",
       "        text-align: right;\n",
       "    }\n",
       "</style>\n",
       "<table border=\"1\" class=\"dataframe\">\n",
       "  <thead>\n",
       "    <tr style=\"text-align: right;\">\n",
       "      <th></th>\n",
       "      <th>StudyHours</th>\n",
       "      <th>Attendance</th>\n",
       "      <th>PastScore</th>\n",
       "      <th>SleepHours</th>\n",
       "      <th>Internet</th>\n",
       "      <th>Passed</th>\n",
       "    </tr>\n",
       "  </thead>\n",
       "  <tbody>\n",
       "    <tr>\n",
       "      <th>StudyHours</th>\n",
       "      <td>1.000000</td>\n",
       "      <td>0.491693</td>\n",
       "      <td>0.599580</td>\n",
       "      <td>0.540024</td>\n",
       "      <td>0.119512</td>\n",
       "      <td>0.747941</td>\n",
       "    </tr>\n",
       "    <tr>\n",
       "      <th>Attendance</th>\n",
       "      <td>0.491693</td>\n",
       "      <td>1.000000</td>\n",
       "      <td>0.580464</td>\n",
       "      <td>0.479399</td>\n",
       "      <td>0.116291</td>\n",
       "      <td>0.705344</td>\n",
       "    </tr>\n",
       "    <tr>\n",
       "      <th>PastScore</th>\n",
       "      <td>0.599580</td>\n",
       "      <td>0.580464</td>\n",
       "      <td>1.000000</td>\n",
       "      <td>0.588468</td>\n",
       "      <td>0.137951</td>\n",
       "      <td>0.818543</td>\n",
       "    </tr>\n",
       "    <tr>\n",
       "      <th>SleepHours</th>\n",
       "      <td>0.540024</td>\n",
       "      <td>0.479399</td>\n",
       "      <td>0.588468</td>\n",
       "      <td>1.000000</td>\n",
       "      <td>0.185924</td>\n",
       "      <td>0.697456</td>\n",
       "    </tr>\n",
       "    <tr>\n",
       "      <th>Internet</th>\n",
       "      <td>0.119512</td>\n",
       "      <td>0.116291</td>\n",
       "      <td>0.137951</td>\n",
       "      <td>0.185924</td>\n",
       "      <td>1.000000</td>\n",
       "      <td>0.200786</td>\n",
       "    </tr>\n",
       "    <tr>\n",
       "      <th>Passed</th>\n",
       "      <td>0.747941</td>\n",
       "      <td>0.705344</td>\n",
       "      <td>0.818543</td>\n",
       "      <td>0.697456</td>\n",
       "      <td>0.200786</td>\n",
       "      <td>1.000000</td>\n",
       "    </tr>\n",
       "  </tbody>\n",
       "</table>\n",
       "</div>"
      ],
      "text/plain": [
       "            StudyHours  Attendance  PastScore  SleepHours  Internet    Passed\n",
       "StudyHours    1.000000    0.491693   0.599580    0.540024  0.119512  0.747941\n",
       "Attendance    0.491693    1.000000   0.580464    0.479399  0.116291  0.705344\n",
       "PastScore     0.599580    0.580464   1.000000    0.588468  0.137951  0.818543\n",
       "SleepHours    0.540024    0.479399   0.588468    1.000000  0.185924  0.697456\n",
       "Internet      0.119512    0.116291   0.137951    0.185924  1.000000  0.200786\n",
       "Passed        0.747941    0.705344   0.818543    0.697456  0.200786  1.000000"
      ]
     },
     "execution_count": 9,
     "metadata": {},
     "output_type": "execute_result"
    }
   ],
   "source": [
    "columns=['StudyHours','Attendance','PastScore','SleepHours','Internet','Passed']\n",
    "corr_matrix= df[columns].corr()\n",
    "corr_matrix"
   ]
  },
  {
   "cell_type": "code",
   "execution_count": null,
   "id": "b2bd2212-ba42-4f6b-a26f-29e88b381301",
   "metadata": {},
   "outputs": [],
   "source": []
  }
 ],
 "metadata": {
  "kernelspec": {
   "display_name": "Python [conda env:base] *",
   "language": "python",
   "name": "conda-base-py"
  },
  "language_info": {
   "codemirror_mode": {
    "name": "ipython",
    "version": 3
   },
   "file_extension": ".py",
   "mimetype": "text/x-python",
   "name": "python",
   "nbconvert_exporter": "python",
   "pygments_lexer": "ipython3",
   "version": "3.13.5"
  }
 },
 "nbformat": 4,
 "nbformat_minor": 5
}
